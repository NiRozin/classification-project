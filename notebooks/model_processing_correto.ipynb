{
 "cells": [
  {
   "cell_type": "code",
   "execution_count": 1,
   "id": "1c5b5400",
   "metadata": {},
   "outputs": [],
   "source": [
    "import sys\n",
    "sys.path.append(\"../src\")\n",
    "from data import make_dataset"
   ]
  },
  {
   "cell_type": "code",
   "execution_count": 2,
   "id": "14c74f64",
   "metadata": {},
   "outputs": [],
   "source": [
    "from working_path import PROJECT_PATH"
   ]
  },
  {
   "cell_type": "markdown",
   "id": "ff36cb41",
   "metadata": {},
   "source": [
    "## Dowload do conjunto de dados"
   ]
  },
  {
   "cell_type": "markdown",
   "id": "1e381fd6",
   "metadata": {},
   "source": [
    "O Download dos dados é feito caso ele não exista na pasta de dados brutos."
   ]
  },
  {
   "cell_type": "code",
   "execution_count": 3,
   "id": "4d5100dc",
   "metadata": {},
   "outputs": [],
   "source": [
    "columns = [\"age\", \"workclass\", \"fnlwgt\", \"education\", \"education_num\",\n",
    "           \"marital_status\", \"occupation\", \"relationship\", \"race\", \"sex\",\n",
    "           \"capital_gain\", \"capital_loss\", \"hours_per_week\", \"native_country\",\n",
    "           \"salary\"]\n",
    "dataset_url = \"http://archive.ics.uci.edu/ml/machine-learning-databases/adult/{}\"\n",
    "\n",
    "    "
   ]
  },
  {
   "cell_type": "code",
   "execution_count": 4,
   "id": "4a4e2779",
   "metadata": {},
   "outputs": [],
   "source": [
    "make_dataset.download_dataset(request_url=dataset_url, download_filename=\"adult.data\",\n",
    "                     output_filename=\"train_data.csv\", columns_name=columns)\n",
    "make_dataset.download_dataset(request_url=dataset_url, download_filename=\"adult.test\",\n",
    "                     output_filename=\"test_data.csv\", columns_name=columns)"
   ]
  },
  {
   "cell_type": "markdown",
   "id": "7156becb",
   "metadata": {},
   "source": [
    "## Tratamento dos dados"
   ]
  },
  {
   "cell_type": "markdown",
   "id": "e7fda1a2",
   "metadata": {},
   "source": [
    "A Pipeline de tratamento dos dados é bem simplicada, duas novas características são constrídas a partir das existentes, algumas são removidas e as categóricas restantes são transformada em numéricas."
   ]
  },
  {
   "cell_type": "code",
   "execution_count": 5,
   "id": "776fd8f8",
   "metadata": {},
   "outputs": [],
   "source": [
    "import pandas as pd"
   ]
  },
  {
   "cell_type": "code",
   "execution_count": 6,
   "id": "4ecf28e4",
   "metadata": {},
   "outputs": [],
   "source": [
    "from features import build_features, features_encoder"
   ]
  },
  {
   "cell_type": "code",
   "execution_count": 7,
   "id": "3b5520d0",
   "metadata": {},
   "outputs": [
    {
     "name": "stderr",
     "output_type": "stream",
     "text": [
      "/home/nicolehervis/others/Projects/classification-project/notebooks/../src/features/build_features.py:18: FutureWarning: The default value of regex will change from True to False in a future version. In addition, single character regular expressions will *not* be treated as literal strings when regex=True.\n",
      "  dataset[\"salary\"] = dataset.salary.str.replace(\".\", \"\")\n"
     ]
    }
   ],
   "source": [
    "datasets = {}\n",
    "for dataset_id in [\"train\", \"test\"]:\n",
    "    dataset = pd.read_csv(f\"{PROJECT_PATH}/data/raw/{dataset_id}_data.csv\")\n",
    "    dataset_ = dataset.copy()\n",
    "    dataset = build_features.add_new_features(dataset.copy())\n",
    "    dataset = build_features.drop_features(dataset.copy())\n",
    "    dataset = build_features.drop_nan_values(dataset.copy())\n",
    "    dataset = build_features.make_target(dataset.copy())\n",
    "    dataset = build_features.drop_features(dataset.copy(), columns=[\"salary\"])\n",
    "    datasets[dataset_id] = dataset"
   ]
  },
  {
   "cell_type": "markdown",
   "id": "1b47491e",
   "metadata": {},
   "source": [
    "A parte da transformação dos dados categóricos em classe numérica foi feita ocm base nos dados de treino e aplicada aos dados de teste, nessa etapa optou-se por manter os dados faltantes como uma nova categoria."
   ]
  },
  {
   "cell_type": "code",
   "execution_count": 9,
   "id": "42d4b769",
   "metadata": {},
   "outputs": [
    {
     "name": "stdout",
     "output_type": "stream",
     "text": [
      "OrdinalEncoder()\n"
     ]
    }
   ],
   "source": [
    "cod = features_encoder.fit_encoder(datasets[\"train\"])"
   ]
  },
  {
   "cell_type": "code",
   "execution_count": 10,
   "id": "27e47392",
   "metadata": {},
   "outputs": [
    {
     "data": {
      "text/plain": [
       "[array([' ?', ' Federal-gov', ' Local-gov', ' Never-worked', ' Private',\n",
       "        ' Self-emp-inc', ' Self-emp-not-inc', ' State-gov', ' Without-pay'],\n",
       "       dtype=object),\n",
       " array([' Divorced', ' Married-AF-spouse', ' Married-civ-spouse',\n",
       "        ' Married-spouse-absent', ' Never-married', ' Separated',\n",
       "        ' Widowed'], dtype=object),\n",
       " array([' ?', ' Adm-clerical', ' Armed-Forces', ' Craft-repair',\n",
       "        ' Exec-managerial', ' Farming-fishing', ' Handlers-cleaners',\n",
       "        ' Machine-op-inspct', ' Other-service', ' Priv-house-serv',\n",
       "        ' Prof-specialty', ' Protective-serv', ' Sales', ' Tech-support',\n",
       "        ' Transport-moving'], dtype=object),\n",
       " array([' Husband', ' Not-in-family', ' Other-relative', ' Own-child',\n",
       "        ' Unmarried', ' Wife'], dtype=object),\n",
       " array([' Female', ' Male'], dtype=object),\n",
       " array([' Amer-Indian-Eskimo', ' Asian-Pac-Islander', ' Black', ' Other',\n",
       "        ' White'], dtype=object)]"
      ]
     },
     "execution_count": 10,
     "metadata": {},
     "output_type": "execute_result"
    }
   ],
   "source": [
    "cod.categories_"
   ]
  },
  {
   "cell_type": "code",
   "execution_count": 11,
   "id": "bb354b33",
   "metadata": {},
   "outputs": [],
   "source": [
    "for dataset_id in [\"train\", \"test\"]:\n",
    "    dataset = features_encoder.transform_features_with_encoder(datasets[dataset_id])\n",
    "    dataset.to_csv(f\"{PROJECT_PATH}/data/processed/{dataset_id}_data.csv\", index=False)"
   ]
  },
  {
   "cell_type": "markdown",
   "id": "41de5321",
   "metadata": {},
   "source": [
    "Os dados tratados são salvos na pasta de dados processados"
   ]
  },
  {
   "cell_type": "markdown",
   "id": "62b7c086",
   "metadata": {},
   "source": [
    "## Balanceamento do conjunto de treinamento"
   ]
  },
  {
   "cell_type": "markdown",
   "id": "ddb2c3a8",
   "metadata": {},
   "source": [
    "Devido ao desbalanceamento significativo no conjunto de dados optou-se por fazer em um primeiro momento um _under-sampling_ da classe majoritória para 75% da quantidade de dados total e após isso um _over-sampling_ da classe minoritária até se igualar a quatidade de dados da majoritária."
   ]
  },
  {
   "cell_type": "code",
   "execution_count": 12,
   "id": "463b1a33",
   "metadata": {},
   "outputs": [],
   "source": [
    "from data import resampling"
   ]
  },
  {
   "cell_type": "code",
   "execution_count": 13,
   "id": "2338625f",
   "metadata": {},
   "outputs": [],
   "source": [
    "train_data = pd.read_csv(f\"{PROJECT_PATH}/data/processed/train_data.csv\")"
   ]
  },
  {
   "cell_type": "code",
   "execution_count": 14,
   "id": "99aeae06",
   "metadata": {},
   "outputs": [
    {
     "data": {
      "text/plain": [
       "(32561, 13)"
      ]
     },
     "execution_count": 14,
     "metadata": {},
     "output_type": "execute_result"
    }
   ],
   "source": [
    "train_data.shape"
   ]
  },
  {
   "cell_type": "code",
   "execution_count": 15,
   "id": "5cddc40d",
   "metadata": {},
   "outputs": [],
   "source": [
    "balance = resampling.Resampling()"
   ]
  },
  {
   "cell_type": "code",
   "execution_count": 16,
   "id": "0e8c9263",
   "metadata": {},
   "outputs": [],
   "source": [
    "X_balanced, y_balanced = balance.apply_pipeline(X=train_data.drop(columns=\"target\"),\n",
    "                                                y = train_data[\"target\"])"
   ]
  },
  {
   "cell_type": "code",
   "execution_count": 17,
   "id": "bcc279ef",
   "metadata": {},
   "outputs": [],
   "source": [
    "data_balanced = X_balanced.copy()\n",
    "data_balanced[\"target\"] = y_balanced"
   ]
  },
  {
   "cell_type": "code",
   "execution_count": 18,
   "id": "b1d14b31",
   "metadata": {},
   "outputs": [
    {
     "data": {
      "text/plain": [
       "(37080, 13)"
      ]
     },
     "execution_count": 18,
     "metadata": {},
     "output_type": "execute_result"
    }
   ],
   "source": [
    "data_balanced.shape"
   ]
  },
  {
   "cell_type": "code",
   "execution_count": 19,
   "id": "16d3c2fa",
   "metadata": {},
   "outputs": [],
   "source": [
    "data_balanced.to_csv(f\"{PROJECT_PATH}/data/processed/train_data_balanced.csv\", index=False)"
   ]
  },
  {
   "cell_type": "markdown",
   "id": "b2312f75",
   "metadata": {},
   "source": [
    "Com essa abordagem de cerca de 32 mil exemplos obtém-se um pouco mais de 37 mil. A escolha por mesclar as duas metodologias de reamostragem é para que não predomine muitos exemplos sintéticos no caso de escolher apenas pela técnica de aumento de dados e nem perder muitos dados optando apenas pela redução dos dados, isso também permite um aumento mais controlado do conjunto de dados, minim,izando o custo de processamento."
   ]
  },
  {
   "cell_type": "markdown",
   "id": "f5e647a0",
   "metadata": {},
   "source": [
    "## Modelo"
   ]
  },
  {
   "cell_type": "markdown",
   "id": "074b88ba",
   "metadata": {},
   "source": [
    "Para modelagem,o algoritmo escolhido foi o Random Forest devido a sua capacidade em se ajustar a diversos problemas e como não é um método tão sensível a escala dos dados e consegue dar peso de forma adaptativa as características mais importnates, já que não foi possível fazer um processo mais profundo nessa curadoria dos dados."
   ]
  },
  {
   "cell_type": "code",
   "execution_count": 20,
   "id": "5c2e1d61",
   "metadata": {},
   "outputs": [],
   "source": [
    "method = \"random_forest\""
   ]
  },
  {
   "cell_type": "code",
   "execution_count": 21,
   "id": "ead61a13",
   "metadata": {},
   "outputs": [],
   "source": [
    "from models.model import Modeling"
   ]
  },
  {
   "cell_type": "code",
   "execution_count": 22,
   "id": "a88057ff",
   "metadata": {},
   "outputs": [],
   "source": [
    "data = pd.read_csv(f\"{PROJECT_PATH}/data/processed/train_data_balanced.csv\")"
   ]
  },
  {
   "cell_type": "markdown",
   "id": "ab6ba58b",
   "metadata": {},
   "source": [
    "Primeiro foi feita uma busca de parametros em um conjunto bem delimitado para limitar o processamento. Nessa etapa utilizou-se de cros-validation com 10-fold."
   ]
  },
  {
   "cell_type": "code",
   "execution_count": 23,
   "id": "2ac3f2dd",
   "metadata": {},
   "outputs": [
    {
     "name": "stdout",
     "output_type": "stream",
     "text": [
      "{'max_depth': 15, 'n_estimators': 50, 'random_state': 42}\n"
     ]
    }
   ],
   "source": [
    "ml = Modeling(data, method)\n",
    "prts = ml.searching_parameters(method)\n",
    "print(prts)"
   ]
  },
  {
   "cell_type": "markdown",
   "id": "08e7a592",
   "metadata": {},
   "source": [
    "Com os parametros selecionados o modelo foi treinado com toda a base de treinamento."
   ]
  },
  {
   "cell_type": "code",
   "execution_count": 24,
   "id": "af79702b",
   "metadata": {},
   "outputs": [
    {
     "name": "stdout",
     "output_type": "stream",
     "text": [
      "Classification Report:\n",
      "              precision    recall  f1-score   support\n",
      "\n",
      "           0       0.90      0.94      0.92     18540\n",
      "           1       0.94      0.90      0.92     18540\n",
      "\n",
      "    accuracy                           0.92     37080\n",
      "   macro avg       0.92      0.92      0.92     37080\n",
      "weighted avg       0.92      0.92      0.92     37080\n",
      "\n"
     ]
    }
   ],
   "source": [
    "model = ml.training(parameters=prts)"
   ]
  },
  {
   "cell_type": "code",
   "execution_count": 25,
   "id": "c3a6edc1",
   "metadata": {},
   "outputs": [],
   "source": [
    "test_data = pd.read_csv(f\"{PROJECT_PATH}/data/processed/test_data.csv\")"
   ]
  },
  {
   "cell_type": "code",
   "execution_count": 26,
   "id": "5c4350ec",
   "metadata": {},
   "outputs": [
    {
     "name": "stdout",
     "output_type": "stream",
     "text": [
      "Classification Report:\n",
      "              precision    recall  f1-score   support\n",
      "\n",
      "           0       0.63      0.77      0.69      3846\n",
      "           1       0.92      0.86      0.89     12435\n",
      "\n",
      "    accuracy                           0.84     16281\n",
      "   macro avg       0.77      0.81      0.79     16281\n",
      "weighted avg       0.85      0.84      0.84     16281\n",
      "\n"
     ]
    }
   ],
   "source": [
    "Modeling.test(model, x=test_data.drop(columns=\"target\"),\n",
    "              y = test_data[\"target\"])"
   ]
  },
  {
   "cell_type": "markdown",
   "id": "14b0f700",
   "metadata": {},
   "source": [
    "É possível perceber um melhor desempenho na classe majoriátia, mas considerando o desbalanceamento existente nos dados brutos, o balanceamento efetuado conseguiu auxiliar nessa questão."
   ]
  },
  {
   "cell_type": "markdown",
   "id": "76003999",
   "metadata": {},
   "source": [
    "Para melhorar o modelo além de testar outros algoritmos e abordagens é essencial rever os dados e olhar com mais cuidado as características, pensar na remoção de dados faltantes ou outro tratamento, um encoder com uma ordem que agregue um valor ordinal e a construção de características."
   ]
  }
 ],
 "metadata": {
  "kernelspec": {
   "display_name": "Python 3 (ipykernel)",
   "language": "python",
   "name": "python3"
  },
  "language_info": {
   "codemirror_mode": {
    "name": "ipython",
    "version": 3
   },
   "file_extension": ".py",
   "mimetype": "text/x-python",
   "name": "python",
   "nbconvert_exporter": "python",
   "pygments_lexer": "ipython3",
   "version": "3.8.10"
  }
 },
 "nbformat": 4,
 "nbformat_minor": 5
}
